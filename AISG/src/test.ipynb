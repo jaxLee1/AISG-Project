{
 "cells": [
  {
   "cell_type": "code",
   "execution_count": 3,
   "metadata": {},
   "outputs": [],
   "source": [
    "import pandas as pd\n",
    "df = pd.read_csv(\"..\\data\\\\basketballCourts.csv\")"
   ]
  },
  {
   "cell_type": "code",
   "execution_count": 5,
   "metadata": {},
   "outputs": [
    {
     "data": {
      "text/html": [
       "<div>\n",
       "<style scoped>\n",
       "    .dataframe tbody tr th:only-of-type {\n",
       "        vertical-align: middle;\n",
       "    }\n",
       "\n",
       "    .dataframe tbody tr th {\n",
       "        vertical-align: top;\n",
       "    }\n",
       "\n",
       "    .dataframe thead th {\n",
       "        text-align: right;\n",
       "    }\n",
       "</style>\n",
       "<table border=\"1\" class=\"dataframe\">\n",
       "  <thead>\n",
       "    <tr style=\"text-align: right;\">\n",
       "      <th></th>\n",
       "      <th>latitude</th>\n",
       "      <th>longitude</th>\n",
       "      <th>percentagePeople</th>\n",
       "    </tr>\n",
       "  </thead>\n",
       "  <tbody>\n",
       "    <tr>\n",
       "      <th>0</th>\n",
       "      <td>1.452990</td>\n",
       "      <td>103.821917</td>\n",
       "      <td>1.452990</td>\n",
       "    </tr>\n",
       "    <tr>\n",
       "      <th>1</th>\n",
       "      <td>1.416800</td>\n",
       "      <td>103.833954</td>\n",
       "      <td>1.416800</td>\n",
       "    </tr>\n",
       "    <tr>\n",
       "      <th>2</th>\n",
       "      <td>1.308944</td>\n",
       "      <td>103.777436</td>\n",
       "      <td>1.308944</td>\n",
       "    </tr>\n",
       "    <tr>\n",
       "      <th>3</th>\n",
       "      <td>1.320917</td>\n",
       "      <td>103.764852</td>\n",
       "      <td>1.320917</td>\n",
       "    </tr>\n",
       "    <tr>\n",
       "      <th>4</th>\n",
       "      <td>1.371846</td>\n",
       "      <td>103.841526</td>\n",
       "      <td>1.371846</td>\n",
       "    </tr>\n",
       "    <tr>\n",
       "      <th>...</th>\n",
       "      <td>...</td>\n",
       "      <td>...</td>\n",
       "      <td>...</td>\n",
       "    </tr>\n",
       "    <tr>\n",
       "      <th>41218</th>\n",
       "      <td>1.285251</td>\n",
       "      <td>103.823715</td>\n",
       "      <td>1.285251</td>\n",
       "    </tr>\n",
       "    <tr>\n",
       "      <th>41219</th>\n",
       "      <td>1.390492</td>\n",
       "      <td>103.746489</td>\n",
       "      <td>1.390492</td>\n",
       "    </tr>\n",
       "    <tr>\n",
       "      <th>41220</th>\n",
       "      <td>1.376696</td>\n",
       "      <td>103.753675</td>\n",
       "      <td>1.376696</td>\n",
       "    </tr>\n",
       "    <tr>\n",
       "      <th>41221</th>\n",
       "      <td>1.322235</td>\n",
       "      <td>103.903511</td>\n",
       "      <td>1.322235</td>\n",
       "    </tr>\n",
       "    <tr>\n",
       "      <th>41222</th>\n",
       "      <td>1.357446</td>\n",
       "      <td>103.747970</td>\n",
       "      <td>1.357446</td>\n",
       "    </tr>\n",
       "  </tbody>\n",
       "</table>\n",
       "<p>41223 rows × 3 columns</p>\n",
       "</div>"
      ],
      "text/plain": [
       "       latitude   longitude  percentagePeople\n",
       "0      1.452990  103.821917          1.452990\n",
       "1      1.416800  103.833954          1.416800\n",
       "2      1.308944  103.777436          1.308944\n",
       "3      1.320917  103.764852          1.320917\n",
       "4      1.371846  103.841526          1.371846\n",
       "...         ...         ...               ...\n",
       "41218  1.285251  103.823715          1.285251\n",
       "41219  1.390492  103.746489          1.390492\n",
       "41220  1.376696  103.753675          1.376696\n",
       "41221  1.322235  103.903511          1.322235\n",
       "41222  1.357446  103.747970          1.357446\n",
       "\n",
       "[41223 rows x 3 columns]"
      ]
     },
     "execution_count": 5,
     "metadata": {},
     "output_type": "execute_result"
    }
   ],
   "source": [
    "df['percentagePeople'] = df['latitude']\n",
    "df"
   ]
  },
  {
   "cell_type": "code",
   "execution_count": null,
   "metadata": {},
   "outputs": [],
   "source": []
  }
 ],
 "metadata": {
  "kernelspec": {
   "display_name": "Python 3",
   "language": "python",
   "name": "python3"
  },
  "language_info": {
   "codemirror_mode": {
    "name": "ipython",
    "version": 3
   },
   "file_extension": ".py",
   "mimetype": "text/x-python",
   "name": "python",
   "nbconvert_exporter": "python",
   "pygments_lexer": "ipython3",
   "version": "3.11.0"
  },
  "orig_nbformat": 4,
  "vscode": {
   "interpreter": {
    "hash": "681a8f9f1a0f07dbe35f9d904e4a5ac6dc56e06de7389e83d9f42b8f2f0a3d58"
   }
  }
 },
 "nbformat": 4,
 "nbformat_minor": 2
}
